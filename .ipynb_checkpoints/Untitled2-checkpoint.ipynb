{
 "cells": [
  {
   "cell_type": "code",
   "execution_count": 24,
   "metadata": {
    "collapsed": false,
    "scrolled": true
   },
   "outputs": [],
   "source": [
    "import requests\n",
    "from bs4 import BeautifulSoup\n",
    "res=requests.get('https://news.sina.com.cn/china/')\n",
    "res.encoding='UTF-8'\n",
    "soup = BeautifulSoup(res.text,'html.parser')"
   ]
  },
  {
   "cell_type": "code",
   "execution_count": 132,
   "metadata": {
    "collapsed": false
   },
   "outputs": [],
   "source": [
    "for news in soup.select('.news-item'):\n",
    "    if len(news.select('h2'))>0:\n",
    "        h2 = news.select('h2')[0].text\n",
    "        time = news.select('.time')[0].text\n",
    "        a = news.select('a')[0]['href']\n",
    "        print(time,h2,a)\n",
    "        "
   ]
  },
  {
   "cell_type": "code",
   "execution_count": 133,
   "metadata": {
    "collapsed": false
   },
   "outputs": [],
   "source": [
    "import requests\n",
    "from bs4 import BeautifulSoup\n",
    "res  = requests.get('http://news.sina.com.cn/o/2017-03-06/doc-ifycaasy7695893.shtml')\n",
    "res.encoding = 'UTF-8'\n",
    "soup = BeautifulSoup(res.text,'html.parser')\n"
   ]
  },
  {
   "cell_type": "code",
   "execution_count": 134,
   "metadata": {
    "collapsed": false
   },
   "outputs": [
    {
     "name": "stdout",
     "output_type": "stream",
     "text": [
      "王银成辞去人保集团副董事长、总裁职务\n"
     ]
    }
   ],
   "source": [
    "print(soup.select('#artibodyTitle')[0].text)"
   ]
  },
  {
   "cell_type": "code",
   "execution_count": 135,
   "metadata": {
    "collapsed": false
   },
   "outputs": [
    {
     "name": "stdout",
     "output_type": "stream",
     "text": [
      "[<span class=\"time-source\" id=\"navtimeSource\">2017年03月06日13:22\t\t<span>\n",
      "<span data-sudaclick=\"media_name\"><a href=\"http://www.yicai.com/news/5239990.html\" rel=\"nofollow\" target=\"_blank\">一财网</a></span></span>\n",
      "</span>]\n"
     ]
    }
   ],
   "source": [
    "print(soup.select('#navtimeSource'))"
   ]
  },
  {
   "cell_type": "code",
   "execution_count": 136,
   "metadata": {
    "collapsed": false
   },
   "outputs": [
    {
     "name": "stdout",
     "output_type": "stream",
     "text": [
      "['2017年03月06日13:22\\t\\t', <span>\n",
      "<span data-sudaclick=\"media_name\"><a href=\"http://www.yicai.com/news/5239990.html\" rel=\"nofollow\" target=\"_blank\">一财网</a></span></span>, '\\n']\n"
     ]
    }
   ],
   "source": [
    "print(soup.select('.time-source')[0].contents)"
   ]
  },
  {
   "cell_type": "code",
   "execution_count": 62,
   "metadata": {
    "collapsed": false
   },
   "outputs": [
    {
     "name": "stdout",
     "output_type": "stream",
     "text": [
      "2017-03-06 13:22:00\n"
     ]
    }
   ],
   "source": [
    "timesouce = soup.select('.time-source')[0].contents[0].strip()\n",
    "from datetime import datetime\n",
    "dt = datetime.strptime(timesouce,'%Y年%m月%d日%H:%M')\n",
    "print(dt)"
   ]
  },
  {
   "cell_type": "code",
   "execution_count": 67,
   "metadata": {
    "collapsed": false
   },
   "outputs": [
    {
     "data": {
      "text/plain": [
       "'一财网'"
      ]
     },
     "execution_count": 67,
     "metadata": {},
     "output_type": "execute_result"
    }
   ],
   "source": [
    "soup.select('.time-source span a')[0].text"
   ]
  },
  {
   "cell_type": "code",
   "execution_count": 71,
   "metadata": {
    "collapsed": false
   },
   "outputs": [
    {
     "data": {
      "text/plain": [
       "[<p>　　原标题：人保集团：王银成已辞去公司副董事长、总裁职务</p>,\n",
       " <p>　　3月6日消息，今日中国人民保险集团在港交所公告，王银成已向公司递交辞呈，辞去公司执行董事、副董事长、总裁职务。该辞任于本公告日生效。人保公告表示，该辞任不影响公司正常经营。</p>,\n",
       " <p class=\"article-editor\">责任编辑：刘光博 </p>]"
      ]
     },
     "execution_count": 71,
     "metadata": {},
     "output_type": "execute_result"
    }
   ],
   "source": [
    "soup.select('#artibody p')"
   ]
  },
  {
   "cell_type": "code",
   "execution_count": 72,
   "metadata": {
    "collapsed": false
   },
   "outputs": [
    {
     "data": {
      "text/plain": [
       "[<p>　　原标题：人保集团：王银成已辞去公司副董事长、总裁职务</p>,\n",
       " <p>　　3月6日消息，今日中国人民保险集团在港交所公告，王银成已向公司递交辞呈，辞去公司执行董事、副董事长、总裁职务。该辞任于本公告日生效。人保公告表示，该辞任不影响公司正常经营。</p>]"
      ]
     },
     "execution_count": 72,
     "metadata": {},
     "output_type": "execute_result"
    }
   ],
   "source": [
    "soup.select('#artibody p')[:-1]"
   ]
  },
  {
   "cell_type": "code",
   "execution_count": 81,
   "metadata": {
    "collapsed": false
   },
   "outputs": [
    {
     "name": "stdout",
     "output_type": "stream",
     "text": [
      "['原标题：人保集团：王银成已辞去公司副董事长、总裁职务', '3月6日消息，今日中国人民保险集团在港交所公告，王银成已向公司递交辞呈，辞去公司执行董事、副董事长、总裁职务。该辞任于本公告日生效。人保公告表示，该辞任不影响公司正常经营。']\n"
     ]
    },
    {
     "data": {
      "text/plain": [
       "'原标题：人保集团：王银成已辞去公司副董事长、总裁职务\\n3月6日消息，今日中国人民保险集团在港交所公告，王银成已向公司递交辞呈，辞去公司执行董事、副董事长、总裁职务。该辞任于本公告日生效。人保公告表示，该辞任不影响公司正常经营。'"
      ]
     },
     "execution_count": 81,
     "metadata": {},
     "output_type": "execute_result"
    }
   ],
   "source": [
    "article = []\n",
    "for body in soup.select('#artibody p')[:-1]:\n",
    "        article.append(body.text.strip())\n",
    "print(article)\n",
    "\n",
    "'\\n'.join(article)"
   ]
  },
  {
   "cell_type": "code",
   "execution_count": 88,
   "metadata": {
    "collapsed": false
   },
   "outputs": [
    {
     "data": {
      "text/plain": [
       "'原标题：人保集团：王银成已辞去公司副董事长、总裁职务 3月6日消息，今日中国人民保险集团在港交所公告，王银成已向公司递交辞呈，辞去公司执行董事、副董事长、总裁职务。该辞任于本公告日生效。人保公告表示，该辞任不影响公司正常经营。'"
      ]
     },
     "execution_count": 88,
     "metadata": {},
     "output_type": "execute_result"
    }
   ],
   "source": [
    "' '.join([p.text.strip() for p in soup.select('#artibody p')[:-1]])"
   ]
  },
  {
   "cell_type": "code",
   "execution_count": 101,
   "metadata": {
    "collapsed": false
   },
   "outputs": [
    {
     "data": {
      "text/plain": [
       "'刘光博'"
      ]
     },
     "execution_count": 101,
     "metadata": {},
     "output_type": "execute_result"
    }
   ],
   "source": [
    "soup.select('.article-editor')[0].text.lstrip('责任编辑：').strip()"
   ]
  },
  {
   "cell_type": "code",
   "execution_count": 106,
   "metadata": {
    "collapsed": false
   },
   "outputs": [
    {
     "data": {
      "text/plain": [
       "[<span id=\"commentCount1\"></span>]"
      ]
     },
     "execution_count": 106,
     "metadata": {},
     "output_type": "execute_result"
    }
   ],
   "source": [
    "soup.select('#commentCount1')"
   ]
  },
  {
   "cell_type": "code",
   "execution_count": 127,
   "metadata": {
    "collapsed": false
   },
   "outputs": [
    {
     "data": {
      "text/plain": [
       "0"
      ]
     },
     "execution_count": 127,
     "metadata": {},
     "output_type": "execute_result"
    }
   ],
   "source": [
    "import requests\n",
    "import json\n",
    "comments = requests.get('http://comment5.news.sina.com.cn/page/info?version=1&format=js&channel=gn&newsid=comos-fycaasy7695893&group=&compress=0&ie=utf-8&oe=utf-8&page=1&page_size=20')\n",
    "\n",
    "json.loads(comments.text.strip('var data='))['result']['count']['total']"
   ]
  },
  {
   "cell_type": "code",
   "execution_count": 164,
   "metadata": {
    "collapsed": false,
    "scrolled": true
   },
   "outputs": [
    {
     "name": "stdout",
     "output_type": "stream",
     "text": [
      "b23s12\n"
     ]
    }
   ],
   "source": [
    "import re\n",
    "print(re.search('b\\d{1,}s\\d{1,}','p1-123b23s12').group())"
   ]
  },
  {
   "cell_type": "code",
   "execution_count": 171,
   "metadata": {
    "collapsed": false
   },
   "outputs": [
    {
     "data": {
      "text/plain": [
       "'b'"
      ]
     },
     "execution_count": 171,
     "metadata": {},
     "output_type": "execute_result"
    }
   ],
   "source": [
    "n = re.search('[b|s]','p1-123b2312').group()\n",
    "n"
   ]
  },
  {
   "cell_type": "code",
   "execution_count": 187,
   "metadata": {
    "collapsed": false
   },
   "outputs": [
    {
     "ename": "AttributeError",
     "evalue": "'NoneType' object has no attribute 'group'",
     "output_type": "error",
     "traceback": [
      "\u001b[0;31m---------------------------------------------------------------------------\u001b[0m",
      "\u001b[0;31mAttributeError\u001b[0m                            Traceback (most recent call last)",
      "\u001b[0;32m<ipython-input-187-ac584f8dad76>\u001b[0m in \u001b[0;36m<module>\u001b[0;34m()\u001b[0m\n\u001b[1;32m      2\u001b[0m \u001b[0mstr\u001b[0m \u001b[0;34m=\u001b[0m \u001b[0;34m'p1-3r2312s121de2'\u001b[0m\u001b[0;34m\u001b[0m\u001b[0m\n\u001b[1;32m      3\u001b[0m \u001b[0;32mif\u001b[0m \u001b[0mtype\u001b[0m\u001b[0;34m(\u001b[0m\u001b[0mre\u001b[0m\u001b[0;34m.\u001b[0m\u001b[0msearch\u001b[0m\u001b[0;34m(\u001b[0m\u001b[0;34m'b'\u001b[0m\u001b[0;34m,\u001b[0m\u001b[0mstr\u001b[0m\u001b[0;34m)\u001b[0m\u001b[0;34m)\u001b[0m\u001b[0;34m!=\u001b[0m\u001b[0;34m'NoneType'\u001b[0m \u001b[0;32mand\u001b[0m \u001b[0mtype\u001b[0m\u001b[0;34m(\u001b[0m\u001b[0mre\u001b[0m\u001b[0;34m.\u001b[0m\u001b[0msearch\u001b[0m\u001b[0;34m(\u001b[0m\u001b[0;34m's'\u001b[0m\u001b[0;34m,\u001b[0m\u001b[0mstr\u001b[0m\u001b[0;34m)\u001b[0m\u001b[0;34m)\u001b[0m\u001b[0;34m!=\u001b[0m\u001b[0;34m'NoneType'\u001b[0m\u001b[0;34m:\u001b[0m\u001b[0;34m\u001b[0m\u001b[0m\n\u001b[0;32m----> 4\u001b[0;31m     \u001b[0mr\u001b[0m \u001b[0;34m=\u001b[0m \u001b[0mre\u001b[0m\u001b[0;34m.\u001b[0m\u001b[0msearch\u001b[0m\u001b[0;34m(\u001b[0m\u001b[0;34m'b\\d{1,}s\\d{1,}'\u001b[0m\u001b[0;34m,\u001b[0m\u001b[0mstr\u001b[0m\u001b[0;34m)\u001b[0m\u001b[0;34m.\u001b[0m\u001b[0mgroup\u001b[0m\u001b[0;34m(\u001b[0m\u001b[0;34m)\u001b[0m\u001b[0;34m\u001b[0m\u001b[0m\n\u001b[0m",
      "\u001b[0;31mAttributeError\u001b[0m: 'NoneType' object has no attribute 'group'"
     ]
    }
   ],
   "source": [
    "import re\n",
    "str = 'p1-3r2312s121de2'\n",
    "if re.search('b',str)!='None' and re.search('s',str)!='None':\n",
    "    r = re.search('b\\d{1,}s\\d{1,}',str).group()\n"
   ]
  },
  {
   "cell_type": "code",
   "execution_count": 184,
   "metadata": {
    "collapsed": false
   },
   "outputs": [
    {
     "data": {
      "text/plain": [
       "NoneType"
      ]
     },
     "execution_count": 184,
     "metadata": {},
     "output_type": "execute_result"
    }
   ],
   "source": [
    "type(re.search('b','p1-3r2312s121de2'))"
   ]
  },
  {
   "cell_type": "code",
   "execution_count": null,
   "metadata": {
    "collapsed": true
   },
   "outputs": [],
   "source": []
  }
 ],
 "metadata": {
  "kernelspec": {
   "display_name": "Python 3",
   "language": "python",
   "name": "python3"
  },
  "language_info": {
   "codemirror_mode": {
    "name": "ipython",
    "version": 3
   },
   "file_extension": ".py",
   "mimetype": "text/x-python",
   "name": "python",
   "nbconvert_exporter": "python",
   "pygments_lexer": "ipython3",
   "version": "3.6.0"
  }
 },
 "nbformat": 4,
 "nbformat_minor": 2
}
