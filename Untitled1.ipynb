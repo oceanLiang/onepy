{
 "cells": [
  {
   "cell_type": "code",
   "execution_count": 41,
   "metadata": {
    "collapsed": false
   },
   "outputs": [],
   "source": [
    "import re\n",
    "import json\n",
    "import requests\n",
    "from bs4 import BeautifulSoup\n",
    "from datetime import datetime\n",
    "\n",
    "#获取http://news.sina.com.cn/china下的新闻列表\n",
    "def getNewsList(url):\n",
    "    list = []\n",
    "    res = requests.get(url) #requests.get抓取URL的Doc\n",
    "    res.encoding='UTF-8' #设置编码\n",
    "    soup = BeautifulSoup(res.text,'html.parser') \n",
    "    for news in soup.select('.news-item'):\n",
    "        if len(news.select('h2'))>0:\n",
    "            h2 = news.select('h2')[0].text\n",
    "            time = news.select('.time')[0].text\n",
    "            a = news.select('a')[0]['href']\n",
    "            r = (time,h2,a)\n",
    "            list.append(r)\n",
    "    return list\n",
    "\n",
    "#getNewsList('http://news.sina.com.cn/china/')\n",
    "\n",
    "#根据内容页URL获取详细内容\n",
    "def getNewsDetail(newsUrl):\n",
    "    result={}\n",
    "    res = requests.get(newsUrl)\n",
    "    res.encoding = 'UTF-8'\n",
    "    soup = BeautifulSoup(res.text,'html.parser')\n",
    "    result['title'] = soup.select('#artibodyTitle')[0].text #标题\n",
    "    result['newssource'] = soup.select('.time-source span a')[0].text #来源\n",
    "    timesouce = soup.select('.time-source')[0].contents[0].strip() #时间\n",
    "    dt = datetime.strptime(timesouce,'%Y年%m月%d日%H:%M')#字符串转时间格式\n",
    "    result['dt'] = dt\n",
    "    result['content'] = ' '.join([p.text.strip() for p in soup.select('#artibody p')[:-1]]) #文章内容\n",
    "    result['editor'] = soup.select('.article-editor')[0].text.lstrip('责任编辑：').strip() #责任编辑\n",
    "    result['comments_count'] = getCommentsCount(newsUrl)\n",
    "    return result\n",
    "\n",
    "#根据newsurl获取文章评论数\n",
    "def getCommentsCount(newsUrl):\n",
    "    m = re.search('doc-i(.+).shtml',newsUrl) #正则匹配url中的newsId\n",
    "    newsId = m.group(1) #取到newsId\n",
    "    commentsUrl = 'http://comment5.news.sina.com.cn/page/info?version=1&format=js&channel=gn&newsid=comos-{}&group=&compress=0&ie=utf-8&oe=utf-8&page=1&page_size=20'\n",
    "    url = commentsUrl.format(newsId)\n",
    "    comments = requests.get(url)\n",
    "    #print( url)\n",
    "    jd = json.loads(comments.text.strip('var data='))\n",
    "    return jd['result']['count']['total']\n",
    "\n",
    "\n",
    "#count = getCommentsCount('http://news.sina.com.cn/c/nd/2017-03-06/doc-ifycaafm5323199.shtml');\n",
    "#count\n",
    "\n",
    "\n",
    "#c = getNewsDetail('http://news.sina.com.cn/c/nd/2017-03-06/doc-ifycaafm5323199.shtml')\n",
    "#c"
   ]
  },
  {
   "cell_type": "code",
   "execution_count": null,
   "metadata": {
    "collapsed": true
   },
   "outputs": [],
   "source": []
  }
 ],
 "metadata": {
  "kernelspec": {
   "display_name": "Python 3",
   "language": "python",
   "name": "python3"
  },
  "language_info": {
   "codemirror_mode": {
    "name": "ipython",
    "version": 3
   },
   "file_extension": ".py",
   "mimetype": "text/x-python",
   "name": "python",
   "nbconvert_exporter": "python",
   "pygments_lexer": "ipython3",
   "version": "3.6.0"
  }
 },
 "nbformat": 4,
 "nbformat_minor": 2
}
